{
  "nbformat": 4,
  "nbformat_minor": 0,
  "metadata": {
    "colab": {
      "name": "TE Filter Model.ipynb",
      "provenance": [],
      "authorship_tag": "ABX9TyOWUDIMsAMz3T4XDugUebfg",
      "include_colab_link": true
    },
    "kernelspec": {
      "name": "python3",
      "display_name": "Python 3"
    }
  },
  "cells": [
    {
      "cell_type": "markdown",
      "metadata": {
        "id": "view-in-github",
        "colab_type": "text"
      },
      "source": [
        "<a href=\"https://colab.research.google.com/github/monroews/About/blob/master/TE_Filter_Model.ipynb\" target=\"_parent\"><img src=\"https://colab.research.google.com/assets/colab-badge.svg\" alt=\"Open In Colab\"/></a>"
      ]
    },
    {
      "cell_type": "markdown",
      "metadata": {
        "id": "8qgaQMX7DcMx",
        "colab_type": "text"
      },
      "source": [
        "# TE Filter Model\n",
        "\n",
        "Corrected to eliminate artificial dependencies on London Van der Waals forces that were created by including those forces in multiple dimensionless groups that canceled out.\n",
        "\n",
        "Tufenkji, N. and M. Elimelech (2004). \"Correlation equation for predicting single-collector efficiency in physicochemical filtration in saturated porous media.\" Environmental-Science-and-Technology 38(2): 529-536."
      ]
    },
    {
      "cell_type": "markdown",
      "metadata": {
        "id": "F6qoEJkkEF6t",
        "colab_type": "text"
      },
      "source": [
        "# Model Inputs"
      ]
    },
    {
      "cell_type": "code",
      "metadata": {
        "id": "V1QOP7gGEQDT",
        "colab_type": "code",
        "colab": {
          "base_uri": "https://localhost:8080/",
          "height": 561
        },
        "outputId": "3dba03df-3353-4e83-9f49-84284581045e"
      },
      "source": [
        "!pip install aguaclara\n",
        "!pip install molmass"
      ],
      "execution_count": 3,
      "outputs": [
        {
          "output_type": "stream",
          "text": [
            "Collecting aguaclara\n",
            "\u001b[?25l  Downloading https://files.pythonhosted.org/packages/6d/b5/24c20d548db5d6dbbce2899e0c9e24eab6c5f593a2898b353f356bb9cd3b/aguaclara-0.2.1.tar.gz (87kB)\n",
            "\u001b[K     |████████████████████████████████| 92kB 2.8MB/s \n",
            "\u001b[?25hRequirement already satisfied: matplotlib in /usr/local/lib/python3.6/dist-packages (from aguaclara) (3.2.1)\n",
            "Requirement already satisfied: urllib3 in /usr/local/lib/python3.6/dist-packages (from aguaclara) (1.24.3)\n",
            "Collecting pint==0.8.1\n",
            "\u001b[?25l  Downloading https://files.pythonhosted.org/packages/1e/40/6938f7d544eef208a8183c2c80624289e8a4f4e0aea43f4658b9527077de/Pint-0.8.1.tar.gz (162kB)\n",
            "\u001b[K     |████████████████████████████████| 163kB 8.1MB/s \n",
            "\u001b[?25hRequirement already satisfied: pandas in /usr/local/lib/python3.6/dist-packages (from aguaclara) (1.0.3)\n",
            "Requirement already satisfied: scipy in /usr/local/lib/python3.6/dist-packages (from aguaclara) (1.4.1)\n",
            "Requirement already satisfied: pyparsing!=2.0.4,!=2.1.2,!=2.1.6,>=2.0.1 in /usr/local/lib/python3.6/dist-packages (from matplotlib->aguaclara) (2.4.7)\n",
            "Requirement already satisfied: kiwisolver>=1.0.1 in /usr/local/lib/python3.6/dist-packages (from matplotlib->aguaclara) (1.2.0)\n",
            "Requirement already satisfied: numpy>=1.11 in /usr/local/lib/python3.6/dist-packages (from matplotlib->aguaclara) (1.18.4)\n",
            "Requirement already satisfied: python-dateutil>=2.1 in /usr/local/lib/python3.6/dist-packages (from matplotlib->aguaclara) (2.8.1)\n",
            "Requirement already satisfied: cycler>=0.10 in /usr/local/lib/python3.6/dist-packages (from matplotlib->aguaclara) (0.10.0)\n",
            "Requirement already satisfied: pytz>=2017.2 in /usr/local/lib/python3.6/dist-packages (from pandas->aguaclara) (2018.9)\n",
            "Requirement already satisfied: six>=1.5 in /usr/local/lib/python3.6/dist-packages (from python-dateutil>=2.1->matplotlib->aguaclara) (1.12.0)\n",
            "Building wheels for collected packages: aguaclara, pint\n",
            "  Building wheel for aguaclara (setup.py) ... \u001b[?25l\u001b[?25hdone\n",
            "  Created wheel for aguaclara: filename=aguaclara-0.2.1-cp36-none-any.whl size=99466 sha256=134259319734a97239bf4ad94488d50d7520141fc9212c9afc8d8472b31faf10\n",
            "  Stored in directory: /root/.cache/pip/wheels/7f/ff/4f/10d76e6a261d392aefbdf6ce8d3d5519e924dc334b102ca49b\n",
            "  Building wheel for pint (setup.py) ... \u001b[?25l\u001b[?25hdone\n",
            "  Created wheel for pint: filename=Pint-0.8.1-py2.py3-none-any.whl size=134156 sha256=f502ebb510a25febec26fc14336036279965c6142c99ed120230a5bb8ac04350\n",
            "  Stored in directory: /root/.cache/pip/wheels/b4/56/36/7c4d6a4e3660e233b95e3b0482551915cb184abca0f93ee1dd\n",
            "Successfully built aguaclara pint\n",
            "Installing collected packages: pint, aguaclara\n",
            "Successfully installed aguaclara-0.2.1 pint-0.8.1\n",
            "Collecting molmass\n",
            "\u001b[?25l  Downloading https://files.pythonhosted.org/packages/12/2b/dd600a36b78bc9ebf9e8ff7c900150c7439af0c55504a4ab8213485cda94/molmass-2020.1.1-py3-none-any.whl (65kB)\n",
            "\u001b[K     |████████████████████████████████| 71kB 2.1MB/s \n",
            "\u001b[?25hInstalling collected packages: molmass\n",
            "Successfully installed molmass-2020.1.1\n"
          ],
          "name": "stdout"
        }
      ]
    },
    {
      "cell_type": "code",
      "metadata": {
        "id": "ApB7bGlKESlq",
        "colab_type": "code",
        "colab": {}
      },
      "source": [
        "import aguaclara as ac\n",
        "from aguaclara.core.units import unit_registry as u\n",
        "import numpy as np\n",
        "import matplotlib.pyplot as plt\n",
        "import pandas as pd"
      ],
      "execution_count": 0,
      "outputs": []
    },
    {
      "cell_type": "code",
      "metadata": {
        "id": "GGs4ezASC1QY",
        "colab_type": "code",
        "colab": {}
      },
      "source": [
        "n = 50\n",
        "d_p = np.logspace(-1,2,n) * u.um \n",
        "rho_p = 2650 * u.kg/u.m**3\n",
        "v_a = 1.8 * u.mm/u.s\n",
        "temp = 20 * u.degC \n",
        "z = 20 * u.cm\n",
        "d_c = 0.5 * u.mm\n",
        "alpha = 1\n",
        "porosity = 0.4"
      ],
      "execution_count": 0,
      "outputs": []
    },
    {
      "cell_type": "markdown",
      "metadata": {
        "id": "q6S0DqIhFOxc",
        "colab_type": "text"
      },
      "source": [
        "# Dimensionless groups"
      ]
    },
    {
      "cell_type": "code",
      "metadata": {
        "id": "K_eULzZFEoH7",
        "colab_type": "code",
        "colab": {}
      },
      "source": [
        "def Pi_R(d_c,d_p):\n",
        "  return (d_p/d_c).to(u.dimensionless)\n",
        "\n",
        "def Pi_z(d_c,z,porosity):\n",
        "  return (z/d_c * 3 * (1-porosity)/2/np.log(10)).to(u.dimensionless)\n",
        "\n",
        "def Pi_Br(d_c,d_p,v_a,temp):\n",
        "  return (u.boltzmann_constant*temp/(3*np.pi*ac.viscosity_dynamic_water(temp)*d_p*v_a*d_c)).to(u.dimensionless)\n",
        "\n",
        "def Pi_g(d_c,d_p,v_a,temp,rho_p):\n",
        "  return d_p**2 *(rho_p-ac.density_water(temp))*u.gravity/(18*ac.viscosity_dynamic_water(temp)*v_a)\n",
        "\n",
        "def Re_p(d_c,v_a,temp):\n",
        "  return (v_a * d_c/ac.viscosity_kinematic_water(temp)).to(u.dimensionless)\n",
        "\n",
        "def A_s(porosity):\n",
        "  x = (1-porosity)**(1/3)\n",
        "  return 2 * (1-x**5)/(2-3*x + 3*x**5 - 2*x**6)\n",
        "\n",
        "#Transport due to Brownian motion, gravity, and interception\n",
        "\n",
        "def T_Br(d_c,d_p,v_a,temp,porosity):\n",
        "  return 3/4 * A_s(porosity)**(1/3) * Pi_R(d_c,d_p)**(-1/6) * Pi_Br(d_c,d_p,v_a,temp)**(2/3)\n",
        "\n",
        "def T_In(d_c,d_p,porosity):\n",
        "  return 1/21.5 * A_s(porosity) * Pi_R(d_c,d_p)**1.425\n",
        "\n",
        "def T_g(d_c,d_p,v_a,temp,rho_p):\n",
        "  return 0.31 * Pi_g(d_c,d_p,v_a,temp,rho_p)\n",
        "\n",
        "def pC_Br(d_c,d_p,v_a,temp,porosity,alpha):\n",
        "  return Pi_z(d_c,z,porosity) * alpha * T_Br(d_c,d_p,v_a,temp,porosity)\n",
        "\n",
        "def pC_In(d_c,d_p,z,porosity,alpha):\n",
        "  return Pi_z(d_c,z,porosity) * alpha * T_In(d_c,d_p,porosity)\n",
        "\n",
        "def pC_g(d_c,d_p,v_a,temp,rho_p):\n",
        "  return Pi_z(d_c,z,porosity) * alpha * T_g(d_c,d_p,v_a,temp,rho_p)"
      ],
      "execution_count": 0,
      "outputs": []
    },
    {
      "cell_type": "code",
      "metadata": {
        "id": "qb8yEzshTVkH",
        "colab_type": "code",
        "colab": {
          "base_uri": "https://localhost:8080/",
          "height": 269
        },
        "outputId": "b55929a1-9819-46ad-f376-0b3bcfb7832f"
      },
      "source": [
        "\n",
        "y0 = np.empty(n)\n",
        "for i in range(n):\n",
        "  y0[i]=pC_Br(d_c,d_p[i],v_a,temp,porosity,alpha)\n",
        "\n",
        "plt.plot(d_p,y0)\n",
        "plt.xscale(\"log\")\n",
        "plt.yscale(\"log\")"
      ],
      "execution_count": 21,
      "outputs": [
        {
          "output_type": "display_data",
          "data": {
            "image/png": "[encoded data removed]",
            "text/plain": [
              "<Figure size 432x288 with 1 Axes>"
            ]
          },
          "metadata": {
            "tags": [],
            "needs_background": "light"
          }
        }
      ]
    },
    {
      "cell_type": "code",
      "metadata": {
        "id": "k74GzdSDTiN7",
        "colab_type": "code",
        "colab": {}
      },
      "source": [
        ""
      ],
      "execution_count": 0,
      "outputs": []
    }
  ]
}